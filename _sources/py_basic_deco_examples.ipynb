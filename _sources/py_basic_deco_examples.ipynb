{
 "cells": [
  {
   "cell_type": "markdown",
   "metadata": {},
   "source": [
    "# 装饰器的各种实例"
   ]
  },
  {
   "cell_type": "code",
   "execution_count": 1,
   "metadata": {},
   "outputs": [
    {
     "name": "stdout",
     "output_type": "stream",
     "text": [
      "_cache: {}\n",
      "Processing ...\n",
      "Compute time: 2.0s\n",
      "3\n",
      "_cache: {(1, 2): 3}\n",
      "Compute time: 0.0s\n",
      "3\n",
      "_cache: {(1, 2): 3}\n",
      "Processing ...\n",
      "Compute time: 2.0s\n",
      "9\n",
      "_cache: {(1, 2): 3, (4, 5): 9}\n",
      "Compute time: 0.0s\n",
      "9\n",
      "_cache: {(1, 2): 3, (4, 5): 9}\n",
      "Compute time: 0.0s\n",
      "3\n"
     ]
    }
   ],
   "source": [
    "import time\n",
    " \n",
    "def cached(function_to_decorate):\n",
    "    _cache = {} # Where we keep the results\n",
    "    def decorated_function(*args):\n",
    "        start_time = time.time()\n",
    "        print('_cache:', _cache)\n",
    "        if args not in _cache:\n",
    "            _cache[args] = function_to_decorate(*args) # Perform the computation and store it in cache\n",
    "        print('Compute time: %ss' % round(time.time() - start_time, 2))\n",
    "        return _cache[args]\n",
    "    return decorated_function\n",
    " \n",
    "@cached\n",
    "def complex_computation(x, y):\n",
    "    print('Processing ...')\n",
    "    time.sleep(2)\n",
    "    return x + y\n",
    " \n",
    "print(complex_computation(1, 2)) # 3, Performing the expensive operation\n",
    "print(complex_computation(1, 2)) # 3, SKIP performing the expensive operation\n",
    "print(complex_computation(4, 5)) # 9, Performing the expensive operation\n",
    "print(complex_computation(4, 5)) # 9, SKIP performing the expensive operation\n",
    "print(complex_computation(1, 2)) # 3, SKIP performing the expensive operation"
   ]
  },
  {
   "cell_type": "markdown",
   "metadata": {},
   "source": [
    "If you look at the code shallowly, you might object. The decorator isn't reusable! If we decorate another function (say another_complex_computation) and call it with the same parameters then we'll get the cached results from the complex_computation function. This won't happen. The decorator is reusable, and here's why:"
   ]
  },
  {
   "cell_type": "code",
   "execution_count": 2,
   "metadata": {},
   "outputs": [
    {
     "name": "stdout",
     "output_type": "stream",
     "text": [
      "_cache: {}\n",
      "Processing ...\n",
      "Compute time: 2.01s\n",
      "2\n",
      "_cache: {(1, 2): 2}\n",
      "Compute time: 0.0s\n",
      "2\n",
      "_cache: {(1, 2): 2}\n",
      "Compute time: 0.0s\n",
      "2\n"
     ]
    }
   ],
   "source": [
    "@cached\n",
    "def another_complex_computation(x, y):\n",
    "    print('Processing ...')\n",
    "    time.sleep(2)\n",
    "    return x * y\n",
    "     \n",
    "print(another_complex_computation(1, 2)) # 2, Performing the expensive operation\n",
    "print(another_complex_computation(1, 2)) # 2, SKIP performing the expensive operation\n",
    "print(another_complex_computation(1, 2)) # 2, SKIP performing the expensive operation"
   ]
  },
  {
   "cell_type": "markdown",
   "metadata": {},
   "source": [
    "The cached function is called once for every function it decorates, so a different _cache variable is instantiated every time and lives in that context. Let's test this out:\n",
    "\n",
    "\n"
   ]
  },
  {
   "cell_type": "code",
   "execution_count": 4,
   "metadata": {},
   "outputs": [
    {
     "name": "stdout",
     "output_type": "stream",
     "text": [
      "_cache: {(1, 2): 3, (4, 5): 9}\n",
      "Processing ...\n",
      "Compute time: 2.0s\n",
      "30\n",
      "_cache: {(1, 2): 2}\n",
      "Processing ...\n",
      "Compute time: 2.01s\n",
      "200\n"
     ]
    }
   ],
   "source": [
    "print(complex_computation(10, 20))           # -> 30\n",
    "print(another_complex_computation(10, 20))   # -> 200"
   ]
  },
  {
   "cell_type": "markdown",
   "metadata": {},
   "source": [
    "The decorator we just coded, as you may have noticed, is very useful. It's so useful that a more complex and robust version already exists in the standard functools module. It is named lru_cache. LRU is the abbreviation of Least Recently Used, a caching strategy. "
   ]
  },
  {
   "cell_type": "code",
   "execution_count": 5,
   "metadata": {},
   "outputs": [
    {
     "name": "stdout",
     "output_type": "stream",
     "text": [
      "Processing ...\n",
      "3\n",
      "3\n",
      "Processing ...\n",
      "5\n",
      "3\n",
      "5\n"
     ]
    }
   ],
   "source": [
    "from functools import lru_cache\n",
    " \n",
    "@lru_cache()\n",
    "def complex_computation(x, y):\n",
    "    print('Processing ...')\n",
    "    time.sleep(2)\n",
    "    return x + y\n",
    " \n",
    "print(complex_computation(1, 2)) # Processing ... 3\n",
    "print(complex_computation(1, 2)) # 3\n",
    "print(complex_computation(2, 3)) # Processing ... 5\n",
    "print(complex_computation(1, 2)) # 3\n",
    "print(complex_computation(2, 3)) # 5"
   ]
  },
  {
   "cell_type": "code",
   "execution_count": 6,
   "metadata": {},
   "outputs": [
    {
     "ename": "ModuleNotFoundError",
     "evalue": "No module named 'flask'",
     "output_type": "error",
     "traceback": [
      "\u001b[0;31m---------------------------------------------------------------------------\u001b[0m",
      "\u001b[0;31mModuleNotFoundError\u001b[0m                       Traceback (most recent call last)",
      "\u001b[0;32m<ipython-input-6-76cb62d90e88>\u001b[0m in \u001b[0;36m<module>\u001b[0;34m\u001b[0m\n\u001b[0;32m----> 1\u001b[0;31m \u001b[0;32mfrom\u001b[0m \u001b[0mflask\u001b[0m \u001b[0;32mimport\u001b[0m \u001b[0mFlask\u001b[0m\u001b[0;34m\u001b[0m\u001b[0;34m\u001b[0m\u001b[0m\n\u001b[0m\u001b[1;32m      2\u001b[0m \u001b[0;34m\u001b[0m\u001b[0m\n\u001b[1;32m      3\u001b[0m \u001b[0mapp\u001b[0m \u001b[0;34m=\u001b[0m \u001b[0mFlask\u001b[0m\u001b[0;34m(\u001b[0m\u001b[0m__name__\u001b[0m\u001b[0;34m)\u001b[0m\u001b[0;34m\u001b[0m\u001b[0;34m\u001b[0m\u001b[0m\n\u001b[1;32m      4\u001b[0m \u001b[0;34m\u001b[0m\u001b[0m\n\u001b[1;32m      5\u001b[0m \u001b[0;34m@\u001b[0m\u001b[0mapp\u001b[0m\u001b[0;34m.\u001b[0m\u001b[0mroute\u001b[0m\u001b[0;34m(\u001b[0m\u001b[0;34m\"/\"\u001b[0m\u001b[0;34m)\u001b[0m\u001b[0;34m\u001b[0m\u001b[0;34m\u001b[0m\u001b[0m\n",
      "\u001b[0;31mModuleNotFoundError\u001b[0m: No module named 'flask'"
     ]
    }
   ],
   "source": [
    "from flask import Flask\n",
    " \n",
    "app = Flask(__name__)\n",
    " \n",
    "@app.route(\"/\")\n",
    "def hello():\n",
    "    return \"Hello World!\"\n",
    " \n",
    "if __name__ == \"__main__\":\n",
    "    app.run()\n"
   ]
  },
  {
   "cell_type": "markdown",
   "metadata": {},
   "source": [
    "The app.route decorator assigns the function hello as the request handler for the route \"/\". The simplicity is amazing. \n",
    "\n",
    "Another neat use of decorators is inside Django. Usually, web applications have two types of pages: \n",
    "\n",
    "pages you can view without being authenticated (front page, landing page, blog post, login, register)\n",
    "pages you need to be authenticated to view (profile settings, inbox, dashboard)\n",
    "If you try to view a page of the latter type, you'll usually get redirected to a login page. Here's how to implement that in Django:"
   ]
  },
  {
   "cell_type": "code",
   "execution_count": 7,
   "metadata": {},
   "outputs": [
    {
     "ename": "ModuleNotFoundError",
     "evalue": "No module named 'django'",
     "output_type": "error",
     "traceback": [
      "\u001b[0;31m---------------------------------------------------------------------------\u001b[0m",
      "\u001b[0;31mModuleNotFoundError\u001b[0m                       Traceback (most recent call last)",
      "\u001b[0;32m<ipython-input-7-62af7899078e>\u001b[0m in \u001b[0;36m<module>\u001b[0;34m\u001b[0m\n\u001b[0;32m----> 1\u001b[0;31m \u001b[0;32mfrom\u001b[0m \u001b[0mdjango\u001b[0m\u001b[0;34m.\u001b[0m\u001b[0mhttp\u001b[0m \u001b[0;32mimport\u001b[0m \u001b[0mHttpResponse\u001b[0m\u001b[0;34m\u001b[0m\u001b[0;34m\u001b[0m\u001b[0m\n\u001b[0m\u001b[1;32m      2\u001b[0m \u001b[0;32mfrom\u001b[0m \u001b[0mdjango\u001b[0m\u001b[0;34m.\u001b[0m\u001b[0mcontrib\u001b[0m\u001b[0;34m.\u001b[0m\u001b[0mauth\u001b[0m\u001b[0;34m.\u001b[0m\u001b[0mdecorators\u001b[0m \u001b[0;32mimport\u001b[0m \u001b[0mlogin_required\u001b[0m\u001b[0;34m\u001b[0m\u001b[0;34m\u001b[0m\u001b[0m\n\u001b[1;32m      3\u001b[0m \u001b[0;34m\u001b[0m\u001b[0m\n\u001b[1;32m      4\u001b[0m \u001b[0;31m# Public Pages\u001b[0m\u001b[0;34m\u001b[0m\u001b[0;34m\u001b[0m\u001b[0;34m\u001b[0m\u001b[0m\n\u001b[1;32m      5\u001b[0m \u001b[0;34m\u001b[0m\u001b[0m\n",
      "\u001b[0;31mModuleNotFoundError\u001b[0m: No module named 'django'"
     ]
    }
   ],
   "source": [
    "from django.http import HttpResponse\n",
    "from django.contrib.auth.decorators import login_required\n",
    " \n",
    "# Public Pages\n",
    " \n",
    "def home(request):\n",
    "    return HttpResponse(\"<b>Home</b>\")\n",
    " \n",
    "def landing(request):\n",
    "    return HttpResponse(\"<b>Landing</b>\")\n",
    " \n",
    "# Authenticated Pages\n",
    " \n",
    "@login_required(login_url='/login')\n",
    "def dashboard(request):\n",
    "    return HttpResponse(\"<b>Dashboard</b>\")\n",
    " \n",
    "@login_required(login_url='/login')\n",
    "def profile_settings(request):\n",
    "    return HttpResponse(\"<b>Profile Settings</b>\")"
   ]
  },
  {
   "cell_type": "markdown",
   "metadata": {},
   "source": [
    "Observe how neatly the private views are marked with login_required. While going through the code, it is very clear to the reader which pages require the user to log in and which pages do not.\n",
    "\n"
   ]
  },
  {
   "cell_type": "code",
   "execution_count": 9,
   "metadata": {},
   "outputs": [],
   "source": [
    "def myFunction(n):                                                                                                        \n",
    "  time.sleep(n) "
   ]
  },
  {
   "cell_type": "code",
   "execution_count": 10,
   "metadata": {},
   "outputs": [
    {
     "name": "stdout",
     "output_type": "stream",
     "text": [
      "Function took 2.0044000148773193 seconds to run\n"
     ]
    }
   ],
   "source": [
    "import time                                                                                                               \n",
    "                                                                                                                          \n",
    "def measure_time(func):                                                                                                   \n",
    "                                                                                                                          \n",
    "  def wrapper(*arg):                                                                                                      \n",
    "      t = time.time()                                                                                                     \n",
    "      res = func(*arg)                                                                                                    \n",
    "      print(\"Function took \" + str(time.time()-t) + \" seconds to run\")                                                    \n",
    "      return res                                                                                                          \n",
    "                                                                                                                          \n",
    "  return wrapper                                                                                                          \n",
    "                                                                                                                          \n",
    "@measure_time                                                                                                             \n",
    "def myFunction(n):                                                                                                        \n",
    "  time.sleep(n)                                                                                                           \n",
    "                                                                                                                          \n",
    "if __name__ == \"__main__\":                                                                                                \n",
    "    myFunction(2)     "
   ]
  },
  {
   "cell_type": "code",
   "execution_count": null,
   "metadata": {},
   "outputs": [],
   "source": []
  }
 ],
 "metadata": {
  "kernelspec": {
   "display_name": "edu",
   "language": "python",
   "name": "edu"
  },
  "language_info": {
   "codemirror_mode": {
    "name": "ipython",
    "version": 3
   },
   "file_extension": ".py",
   "mimetype": "text/x-python",
   "name": "python",
   "nbconvert_exporter": "python",
   "pygments_lexer": "ipython3",
   "version": "3.7.6"
  }
 },
 "nbformat": 4,
 "nbformat_minor": 4
}
