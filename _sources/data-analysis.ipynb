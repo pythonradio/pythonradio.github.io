{
 "cells": [
  {
   "cell_type": "markdown",
   "metadata": {
    "slideshow": {
     "slide_type": "slide"
    }
   },
   "source": [
    "# 9.25 直播课\n",
    "\n",
    "> @DE8UG"
   ]
  },
  {
   "cell_type": "markdown",
   "metadata": {
    "slideshow": {
     "slide_type": "fragment"
    }
   },
   "source": [
    "## - 问题答疑\n",
    "## - 知识补充"
   ]
  },
  {
   "cell_type": "markdown",
   "metadata": {
    "slideshow": {
     "slide_type": "slide"
    }
   },
   "source": [
    "# 问题1.用python做数据分析常用的函数库除了pandas，numpy，math，matplotlib之外还有哪些呢？"
   ]
  },
  {
   "cell_type": "markdown",
   "metadata": {
    "slideshow": {
     "slide_type": "subslide"
    }
   },
   "source": [
    "## 课上讲的都是"
   ]
  },
  {
   "cell_type": "markdown",
   "metadata": {
    "slideshow": {
     "slide_type": "fragment"
    }
   },
   "source": [
    "## 画一画重点"
   ]
  },
  {
   "cell_type": "markdown",
   "metadata": {
    "slideshow": {
     "slide_type": "fragment"
    }
   },
   "source": [
    "\n",
    "- Python基础：dict，list，字符串，文件操作，函数\n",
    "- pandas：越多越好\n",
    "- 绘图：matplotlib，seaborn\n",
    "- 爬虫：网页结构，requests，http协议\n",
    "- AI：pytorch、tf2，至少一个，+ scikit-learn"
   ]
  },
  {
   "cell_type": "markdown",
   "metadata": {},
   "source": [
    "## DE8UG的Python导航站:https://sublimepython.top/"
   ]
  },
  {
   "cell_type": "markdown",
   "metadata": {
    "slideshow": {
     "slide_type": "slide"
    }
   },
   "source": [
    "\n",
    "# 问题2.在常用的数据库中，函数太多记不住记不全。有什么好的记忆办法吗？或者说能否列出一个表，把每个常用函数库中常用到函数列一下来重点记忆？"
   ]
  },
  {
   "cell_type": "markdown",
   "metadata": {
    "slideshow": {
     "slide_type": "subslide"
    }
   },
   "source": [
    "## 不用记，忘记很正常，不同时间段的重点不一样"
   ]
  },
  {
   "cell_type": "markdown",
   "metadata": {
    "slideshow": {
     "slide_type": "fragment"
    }
   },
   "source": [
    "## 多练习，多查，熟能生巧"
   ]
  },
  {
   "cell_type": "markdown",
   "metadata": {
    "slideshow": {
     "slide_type": "fragment"
    }
   },
   "source": [
    "## https://devdocs.io/"
   ]
  },
  {
   "cell_type": "markdown",
   "metadata": {
    "slideshow": {
     "slide_type": "fragment"
    }
   },
   "source": [
    "## https://pandas.pydata.org/"
   ]
  },
  {
   "cell_type": "markdown",
   "metadata": {},
   "source": [
    "tab键，shift+tab"
   ]
  },
  {
   "cell_type": "markdown",
   "metadata": {
    "slideshow": {
     "slide_type": "slide"
    }
   },
   "source": [
    "\n",
    "# 问题3.爬虫怎么学"
   ]
  },
  {
   "cell_type": "markdown",
   "metadata": {
    "slideshow": {
     "slide_type": "subslide"
    }
   },
   "source": [
    "## 爬虫主要是获取数据，通过课程里查看网页代码的思路，快速确认数据是否容易批量获取"
   ]
  },
  {
   "cell_type": "markdown",
   "metadata": {
    "slideshow": {
     "slide_type": "subslide"
    }
   },
   "source": [
    "## 爬虫：网页结构，requests，http协议"
   ]
  },
  {
   "cell_type": "markdown",
   "metadata": {
    "slideshow": {
     "slide_type": "fragment"
    }
   },
   "source": [
    "- https://developer.mozilla.org/zh-CN/docs/Web\n",
    "- https://requests.readthedocs.io/en/master/"
   ]
  },
  {
   "cell_type": "markdown",
   "metadata": {
    "slideshow": {
     "slide_type": "subslide"
    }
   },
   "source": [
    "## Q:爬取难度大，又特别需要？ "
   ]
  },
  {
   "cell_type": "markdown",
   "metadata": {
    "slideshow": {
     "slide_type": "fragment"
    }
   },
   "source": [
    "### 平衡时间与金钱\n",
    "\n",
    "> #### 花时间自己做  \n",
    "> #### 外包或直接买"
   ]
  },
  {
   "cell_type": "markdown",
   "metadata": {
    "slideshow": {
     "slide_type": "slide"
    }
   },
   "source": [
    "\n",
    "# 问题4.考试的话，简答题重点章节是哪几章？"
   ]
  },
  {
   "cell_type": "markdown",
   "metadata": {
    "slideshow": {
     "slide_type": "subslide"
    }
   },
   "source": [
    "## 模块三和模块四"
   ]
  },
  {
   "cell_type": "markdown",
   "metadata": {
    "slideshow": {
     "slide_type": "subslide"
    }
   },
   "source": [
    "> #### but, 多学点东西不是更重要嘛🤣学习使人快乐呀"
   ]
  },
  {
   "cell_type": "markdown",
   "metadata": {
    "slideshow": {
     "slide_type": "slide"
    }
   },
   "source": [
    "\n",
    "# 问题5.数据分析的应用场景"
   ]
  },
  {
   "cell_type": "markdown",
   "metadata": {
    "slideshow": {
     "slide_type": "subslide"
    }
   },
   "source": [
    "## 用一天的生活举个例子"
   ]
  },
  {
   "cell_type": "markdown",
   "metadata": {
    "slideshow": {
     "slide_type": "subslide"
    }
   },
   "source": [
    "### 早上\n",
    "- 刷手机看新闻：地区，性别，喜好\n",
    "- 吃早餐：顾客，食材，销量\n",
    "- 打车、地铁、公交车：起止位置，时间，客流量，燃料，保养\n",
    "- 路上看视频，听音频，看书：性别，年龄，身份，习惯"
   ]
  },
  {
   "cell_type": "markdown",
   "metadata": {
    "slideshow": {
     "slide_type": "subslide"
    }
   },
   "source": [
    "### 上班\n",
    "- 打卡：钉钉，人脸\n",
    "- 邮箱：垃圾过滤，自动分类\n",
    "- 买东西：推荐，优惠券，物流\n",
    "- 打字：输入法\n",
    "- office：模板，设计，菜单\n",
    "- 浏览器：搜索，菜单，资源管理，历史记录\n",
    "- 产品：获取更多客户？决策"
   ]
  },
  {
   "cell_type": "markdown",
   "metadata": {
    "slideshow": {
     "slide_type": "subslide"
    }
   },
   "source": [
    "### 下班\n",
    "- 带娃：吃奶，屎尿，玩耍，各种购物推荐\n",
    "- 水电煤气：智能提醒，分析\n",
    "- 通信：流量套餐，客户\n",
    "- 学习：视频学习时长，完成率，浏览历史，优惠券\n",
    "- 日记：完成，未完成，计划"
   ]
  },
  {
   "cell_type": "markdown",
   "metadata": {
    "slideshow": {
     "slide_type": "subslide"
    }
   },
   "source": [
    "## 两大类问题：\n",
    "- 决策、分析：往哪走，要不要\n",
    "- 优化：更高更快更强，数据的流动过程中会遇到哪些因素"
   ]
  },
  {
   "cell_type": "markdown",
   "metadata": {
    "slideshow": {
     "slide_type": "subslide"
    }
   },
   "source": [
    "## 哪里有更多项目?"
   ]
  },
  {
   "cell_type": "markdown",
   "metadata": {
    "slideshow": {
     "slide_type": "fragment"
    }
   },
   "source": [
    "\n",
    "\n",
    "- 做什么？\n",
    "    - 工作相关，能给公司带来收益，业务增长点，付费率，退费率\n",
    "    - 数据竞赛：天池，kaggle，入门赛\n",
    "    - 提数，报表，报告\n",
    "- 数据哪里来？\n",
    "    - 爬虫自己爬\n",
    "    - 公开数据集\n",
    "\n",
    "#### 👉关键：实践+总结"
   ]
  },
  {
   "cell_type": "markdown",
   "metadata": {
    "slideshow": {
     "slide_type": "slide"
    }
   },
   "source": [
    "# 知识补充"
   ]
  },
  {
   "cell_type": "markdown",
   "metadata": {
    "slideshow": {
     "slide_type": "subslide"
    }
   },
   "source": [
    "## jupyterlab\n",
    "\n",
    "- https://jupyterlab.readthedocs.io/en/stable/"
   ]
  },
  {
   "cell_type": "markdown",
   "metadata": {
    "slideshow": {
     "slide_type": "subslide"
    }
   },
   "source": [
    "![](https://jupyterlab.readthedocs.io/en/stable/_images/jupyterlab.png)"
   ]
  },
  {
   "cell_type": "markdown",
   "metadata": {
    "slideshow": {
     "slide_type": "subslide"
    }
   },
   "source": [
    "### INSTALL\n",
    "\n",
    "`conda install -c conda-forge jupyterlab`\n",
    "\n",
    "OR\n",
    "\n",
    "`pip install jupyterlab`"
   ]
  },
  {
   "cell_type": "markdown",
   "metadata": {
    "slideshow": {
     "slide_type": "fragment"
    }
   },
   "source": [
    "### START\n",
    "\n",
    "`jupyter lab`"
   ]
  },
  {
   "cell_type": "markdown",
   "metadata": {
    "slideshow": {
     "slide_type": "subslide"
    }
   },
   "source": [
    "### 用法\n",
    "\n",
    "- 文件管理\n",
    "- 窗口\n",
    "- 插件"
   ]
  },
  {
   "cell_type": "markdown",
   "metadata": {
    "slideshow": {
     "slide_type": "slide"
    }
   },
   "source": [
    "## 装饰器"
   ]
  },
  {
   "cell_type": "code",
   "execution_count": 5,
   "metadata": {
    "slideshow": {
     "slide_type": "subslide"
    }
   },
   "outputs": [],
   "source": [
    "# 传递参数\n",
    "def deco_iron(func):\n",
    "    print('deco_iron开始运行....')\n",
    "    def wrapper(*args, **kw):\n",
    "        print('开始变身，在执行{}函数前'.format(func.__name__))\n",
    "        print(args, kw)\n",
    "        func(*args, **kw)\n",
    "        print('钢铁侠变身完成，结束{}函数'.format(func.__name__))\n",
    "    return wrapper"
   ]
  },
  {
   "cell_type": "code",
   "execution_count": 6,
   "metadata": {
    "slideshow": {
     "slide_type": "subslide"
    }
   },
   "outputs": [
    {
     "name": "stdout",
     "output_type": "stream",
     "text": [
      "deco_iron开始运行....\n"
     ]
    }
   ],
   "source": [
    "@deco_iron\n",
    "def tony(msg):\n",
    "    print(f'tony说：{msg}')\n"
   ]
  },
  {
   "cell_type": "code",
   "execution_count": 8,
   "metadata": {
    "slideshow": {
     "slide_type": "fragment"
    }
   },
   "outputs": [
    {
     "name": "stdout",
     "output_type": "stream",
     "text": [
      "开始变身，在执行tony函数前\n",
      "('我来啦！',) {}\n",
      "tony说：我来啦！\n",
      "钢铁侠变身完成，结束tony函数\n"
     ]
    }
   ],
   "source": [
    "tony('我来啦！')"
   ]
  },
  {
   "cell_type": "markdown",
   "metadata": {
    "slideshow": {
     "slide_type": "slide"
    }
   },
   "source": [
    "## 学习路径图"
   ]
  },
  {
   "cell_type": "markdown",
   "metadata": {
    "slideshow": {
     "slide_type": "subslide"
    }
   },
   "source": [
    "> http://nirvacana.com/thoughts/becoming-a-data-scientist/"
   ]
  },
  {
   "cell_type": "markdown",
   "metadata": {
    "slideshow": {
     "slide_type": "subslide"
    }
   },
   "source": [
    "![](https://img-blog.csdnimg.cn/20191007181133939.jpg?x-oss-process=image/watermark,type_ZmFuZ3poZW5naGVpdGk,shadow_10,text_aHR0cHM6Ly9ibG9nLmNzZG4ubmV0L2N0cmlnZ2Vy,size_16,color_FFFFFF,t_70)"
   ]
  },
  {
   "cell_type": "markdown",
   "metadata": {
    "slideshow": {
     "slide_type": "subslide"
    }
   },
   "source": [
    "![](https://img-blog.csdnimg.cn/20191007181106825.jpg?x-oss-process=image/watermark,type_ZmFuZ3poZW5naGVpdGk,shadow_10,text_aHR0cHM6Ly9ibG9nLmNzZG4ubmV0L2N0cmlnZ2Vy,size_16,color_FFFFFF,t_70)"
   ]
  }
 ],
 "metadata": {
  "kernelspec": {
   "display_name": "edu",
   "language": "python",
   "name": "edu"
  },
  "language_info": {
   "codemirror_mode": {
    "name": "ipython",
    "version": 3
   },
   "file_extension": ".py",
   "mimetype": "text/x-python",
   "name": "python",
   "nbconvert_exporter": "python",
   "pygments_lexer": "ipython3",
   "version": "3.7.6"
  }
 },
 "nbformat": 4,
 "nbformat_minor": 4
}
