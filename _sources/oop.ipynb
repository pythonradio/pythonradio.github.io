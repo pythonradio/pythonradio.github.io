{
 "cells": [
  {
   "cell_type": "markdown",
   "metadata": {},
   "source": [
    "# 面向对象"
   ]
  },
  {
   "cell_type": "markdown",
   "metadata": {},
   "source": [
    "现实世界各种物体都可以看做对象。这些对象映射到代码里，也就有了面向对象。\n",
    "我们平时所见的任何物体都可以归属于某类事物，我们可以成为某类物体的实例。\n",
    "对象之间会进行各种交流，传递信息，也可以叫做消息。\n",
    "面向过程编程时，程序=算法+数据结构，\n",
    "面向对象编程时，程序=对象+消息"
   ]
  },
  {
   "cell_type": "markdown",
   "metadata": {},
   "source": [
    "面向对象使得现实世界与代码有了一一对应的关系。"
   ]
  },
  {
   "cell_type": "markdown",
   "metadata": {},
   "source": [
    "类，class，具有相似的内部状态和运动规律的实体集合。人们认识事物一般有两种办法：由特殊到一般的归纳法和由一般到特殊的演绎法。\n",
    "\n",
    "归纳的过程是从具体事物中抽取共同的特征，形成一般的概念。\n",
    "\n",
    "演绎的过程，把同类的事物根据不同特征分成不同的小类\n",
    "\n",
    "对象，object，现实世界的各种实体，也就是class的各种实例。既可以指具体事物，也可以指抽象事物。每个对象都有自己的内部状态和运动规律。\n",
    "\n",
    "面向对象概念中，把对象的内部状态称为属性，运动规律称为方法或事件。\n",
    "\n",
    "消息：message，对象间相互联系相互作用的方式。一个消息有5部分：发送消息的对象，接收消息的对象，传递办法，消息内容，反馈。\n",
    "\n",
    "类的特性：抽象，继承，封装，重载，多态。"
   ]
  },
  {
   "cell_type": "markdown",
   "metadata": {},
   "source": [
    "## DE8UG带你学面向对象-Python篇"
   ]
  },
  {
   "cell_type": "code",
   "execution_count": null,
   "metadata": {},
   "outputs": [],
   "source": [
    "- 点线面\n",
    "- 扑克牌\n",
    "- 游戏角色\n",
    "- 公司，学校"
   ]
  }
 ],
 "metadata": {
  "kernelspec": {
   "display_name": "edu",
   "language": "python",
   "name": "edu"
  },
  "language_info": {
   "codemirror_mode": {
    "name": "ipython",
    "version": 3
   },
   "file_extension": ".py",
   "mimetype": "text/x-python",
   "name": "python",
   "nbconvert_exporter": "python",
   "pygments_lexer": "ipython3",
   "version": "3.7.6"
  }
 },
 "nbformat": 4,
 "nbformat_minor": 4
}
